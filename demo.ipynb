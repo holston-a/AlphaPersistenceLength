{
 "cells": [
  {
   "cell_type": "code",
   "execution_count": 1,
   "metadata": {},
   "outputs": [],
   "source": [
    "import numpy as np"
   ]
  },
  {
   "cell_type": "markdown",
   "metadata": {},
   "source": [
    "### Import PDB"
   ]
  },
  {
   "cell_type": "code",
   "execution_count": 2,
   "metadata": {},
   "outputs": [],
   "source": [
    "Unit_length = 0.37\n",
    "#This will probably never change, as for an alpha helix the unit length stays fairly consistent from one to the next.\n",
    "YOUR_PDB_FILE_HERE = 'demo.pdb'\n",
    "#Move your PDB file into your working directory, and put its file name into the quotes above.\n",
    "\n",
    "def get_C_pdb(pdb_file):\n",
    "    dict_C1 = {}\n",
    "    f = open(pdb_file,'r')\n",
    "    lines = f.readlines()\n",
    "    f.close()\n",
    "    all_coord_C = []\n",
    "    for l in lines:\n",
    "        if l[0:4] == \"ATOM\" and l[13:15] == \"C \":\n",
    "            Res = l[23:26]\n",
    "            coord_C = [float(l[(30 + i*8):(38 + i*8)]) for i in range(3)]\n",
    "            dict_C1[Res] = {}\n",
    "            dict_C1[Res]['C'] = coord_C\n",
    "    return dict_C1\n",
    "#What the above does is grabs all the C atoms, and puts them as keys into a dictionary\n",
    "#with the values for each key being the C atom's x,y,z coordinates\n",
    "\n",
    "def get_N_pdb(pdb_file,CDict):\n",
    "    f = open(pdb_file,'r')\n",
    "    lines = f.readlines()\n",
    "    f.close()\n",
    "    all_coord_N = []\n",
    "    for l in lines:\n",
    "        if l[0:4] == \"ATOM\" and l[13:15] == \"N \":\n",
    "            Res = l[23:26]\n",
    "            coord_N = [float(l[(30 + i*8):(38 + i*8)]) for i in range(3)]\n",
    "            CDict[Res]['N'] = coord_N\n",
    "    return CDict\n",
    "#What the above does is grabs all the N atoms, and puts them as keys into a dictionary\n",
    "#with the values for each key being the N atom's x,y,z coordinates"
   ]
  },
  {
   "cell_type": "code",
   "execution_count": 3,
   "metadata": {},
   "outputs": [],
   "source": [
    "First_dict = get_C_pdb(YOUR_PDB_FILE_HERE)"
   ]
  },
  {
   "cell_type": "code",
   "execution_count": 4,
   "metadata": {
    "scrolled": true
   },
   "outputs": [],
   "source": [
    "Two_dict = get_N_pdb(YOUR_PDB_FILE_HERE,First_dict)\n",
    "#What this does is combine the two dictionaries of C atoms and N atoms."
   ]
  },
  {
   "cell_type": "code",
   "execution_count": 5,
   "metadata": {},
   "outputs": [],
   "source": [
    "Res_list = list(range(1,1000,4))\n",
    "\n",
    "final = {int(key):value for (key,value) in Two_dict.items() if int(key) in Res_list}\n",
    "#What this does it make it so that only the residues being used to calculate persistence length are in this dictionary."
   ]
  },
  {
   "cell_type": "code",
   "execution_count": 6,
   "metadata": {},
   "outputs": [
    {
     "name": "stdout",
     "output_type": "stream",
     "text": [
      "8.534892780978124\n"
     ]
    }
   ],
   "source": [
    "Cos_theta = []\n",
    "####MODIFY THIS MIDDLE VALUE BELOW TO BE THE NUMBER OF RESIDUES IN YOUR ALPHA HELIX MINUS FOUR\n",
    "for i in range(1,96,4):\n",
    "    if i != 93:\n",
    "        Xc0 = final[i]['C'][0]\n",
    "        Yc0 = final[i]['C'][1]\n",
    "        Zc0 = final[i]['C'][2]\n",
    "        #Get x,y,z coordinates from the carbon atom\n",
    "\n",
    "        Xn0 = final[i+4]['N'][0]\n",
    "        Yn0 = final[i+4]['N'][1]\n",
    "        Zn0 = final[i+4]['N'][2]\n",
    "        #Get x,y,z coordinates from the nitrogen atom of the n+4th residue\n",
    "        \n",
    "        Xv0 = Xn0 - Xc0\n",
    "        Yv0 = Yn0 - Yc0\n",
    "        Zv0 = Zn0 - Zc0\n",
    "        Vec0 = np.array([Xv0,Yv0,Zv0])\n",
    "        #The x,y,z vector components for vector 0\n",
    "        \n",
    "        Vec0Mag = np.sqrt(((Xv0)**2)+((Yv0)**2)+((Zv0)**2))\n",
    "        #This calculates the magnitude of vector 0\n",
    "        \n",
    "        Xc1 = final[i+4]['C'][0]\n",
    "        Yc1 = final[i+4]['C'][1]\n",
    "        Zc1 = final[i+4]['C'][2]\n",
    "        #Get x,y,z coordinates from the carbon atom\n",
    "\n",
    "        Xn1 = final[i+8]['N'][0]\n",
    "        Yn1 = final[i+8]['N'][1]\n",
    "        Zn1 = final[i+8]['N'][2]\n",
    "        #Get x,y,z coordinates from the nitrogen atom of the n+4th residue\n",
    "        \n",
    "        Xv1 = Xn1 - Xc1\n",
    "        Yv1 = Yn1 - Yc1\n",
    "        Zv1 = Zn1 - Zc1\n",
    "        Vec1 = np.array([Xv1,Yv1,Zv1])\n",
    "        #The x,y,z vector components for vector 1\n",
    "        \n",
    "        Vec1Mag = np.sqrt(((Xv1)**2)+((Yv1)**2)+((Zv1)**2))\n",
    "        #This calculates the magnitude of vector 1\n",
    "        \n",
    "        Dot_prod = np.dot(Vec0,Vec1)\n",
    "        #Calculate the dot product of these two vectors\n",
    "        \n",
    "        Cosine_theta = (Dot_prod/(Vec0Mag*Vec1Mag))\n",
    "        Cos_theta.append(Cosine_theta)\n",
    "\n",
    "Cos_Theta_arr = np.array(Cos_theta)\n",
    "Avg = np.average(Cos_Theta_arr)\n",
    "\n",
    "Persistence_length = Unit_length/(1-Avg)\n",
    "#Calculate your persistence length\n",
    "print(Persistence_length)\n"
   ]
  }
 ],
 "metadata": {
  "kernelspec": {
   "display_name": "Python 3",
   "language": "python",
   "name": "python3"
  },
  "language_info": {
   "codemirror_mode": {
    "name": "ipython",
    "version": 3
   },
   "file_extension": ".py",
   "mimetype": "text/x-python",
   "name": "python",
   "nbconvert_exporter": "python",
   "pygments_lexer": "ipython3",
   "version": "3.7.6"
  }
 },
 "nbformat": 4,
 "nbformat_minor": 4
}
